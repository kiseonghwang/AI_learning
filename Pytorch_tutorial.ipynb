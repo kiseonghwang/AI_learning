{
 "cells": [
  {
   "cell_type": "code",
   "execution_count": 1,
   "metadata": {},
   "outputs": [],
   "source": [
    "import torch\n",
    "from torch import nn\n",
    "from torch.utils.data import DataLoader\n",
    "from torchvision import datasets\n",
    "from torchvision.transforms import ToTensor"
   ]
  },
  {
   "cell_type": "code",
   "execution_count": 2,
   "metadata": {},
   "outputs": [],
   "source": [
    "training_data = datasets.FashionMNIST(\n",
    "root=\"dataset/fashionMNIST\",\n",
    "train=True,\n",
    "download=False,\n",
    "transform=ToTensor()\n",
    ")\n",
    "\n",
    "test_data = datasets.FashionMNIST(\n",
    "    root=\"dataset/fashionMNIST\",\n",
    "    train=False,\n",
    "    download=False,\n",
    "    transform=ToTensor()\n",
    ")"
   ]
  },
  {
   "cell_type": "code",
   "execution_count": 3,
   "metadata": {},
   "outputs": [
    {
     "name": "stdout",
     "output_type": "stream",
     "text": [
      "shape of x [N, C, H, W]: torch.Size([64, 1, 28, 28])\n",
      "shape of y: torch.Size([64]) torch.int64\n"
     ]
    }
   ],
   "source": [
    "batch_size = 64\n",
    "\n",
    "train_dataloader = DataLoader(training_data, batch_size=batch_size)\n",
    "test_dataloader = DataLoader(test_data, batch_size=batch_size)\n",
    "\n",
    "for x, y in test_dataloader:\n",
    "    print(f\"shape of x [N, C, H, W]: {x.shape}\")\n",
    "    print(f\"shape of y: {y.shape} {y.dtype}\")\n",
    "    break"
   ]
  },
  {
   "cell_type": "code",
   "execution_count": 4,
   "metadata": {},
   "outputs": [
    {
     "name": "stdout",
     "output_type": "stream",
     "text": [
      "Using cpu device\n"
     ]
    }
   ],
   "source": [
    "device = (\n",
    "    \"cuda\"\n",
    "    if torch.cuda.is_available()\n",
    "    # else \"mps\"\n",
    "    # if torch.backends.mps.is_available()\n",
    "    else \"cpu\"\n",
    ")\n",
    "print(f\"Using {device} device\")"
   ]
  },
  {
   "cell_type": "code",
   "execution_count": 5,
   "metadata": {},
   "outputs": [
    {
     "name": "stdout",
     "output_type": "stream",
     "text": [
      "NeuralNetwork(\n",
      "  (flatten): Flatten(start_dim=1, end_dim=-1)\n",
      "  (linear_relu_stack): Sequential(\n",
      "    (0): Linear(in_features=784, out_features=512, bias=True)\n",
      "    (1): ReLU()\n",
      "    (2): Linear(in_features=512, out_features=512, bias=True)\n",
      "    (3): ReLU()\n",
      "    (4): Linear(in_features=512, out_features=10, bias=True)\n",
      "  )\n",
      ")\n"
     ]
    }
   ],
   "source": [
    "class NeuralNetwork(nn.Module):\n",
    "    def __init__(self):\n",
    "        super().__init__()\n",
    "        self.flatten = nn.Flatten()\n",
    "        self.linear_relu_stack = nn.Sequential(\n",
    "            nn.Linear(28*28, 512),\n",
    "            nn.ReLU(),\n",
    "            nn.Linear(512, 512),\n",
    "            nn.ReLU(),\n",
    "            nn.Linear(512, 10)\n",
    "        )\n",
    "        \n",
    "    def forward(self, x):\n",
    "        x = self.flatten(x)\n",
    "        logits = self.linear_relu_stack(x)\n",
    "        return logits\n",
    "    \n",
    "model = NeuralNetwork().to(device=device)\n",
    "print(model)"
   ]
  },
  {
   "cell_type": "code",
   "execution_count": 6,
   "metadata": {},
   "outputs": [],
   "source": [
    "loss_fn = nn.CrossEntropyLoss()\n",
    "optmizer = torch.optim.SGD(model.parameters(), lr=1e-3)"
   ]
  },
  {
   "cell_type": "code",
   "execution_count": 7,
   "metadata": {},
   "outputs": [],
   "source": [
    "def train(dataloadr, model, loss_fn, optmizer):\n",
    "    size = len(dataloadr.dataset)\n",
    "    for batch, (x, y) in enumerate(dataloadr):\n",
    "        x, y = x.to(device), y.to(device)\n",
    "        \n",
    "        pred = model(x)\n",
    "        loss = loss_fn(pred, y)\n",
    "        \n",
    "        optmizer.zero_grad()\n",
    "        loss.backward()\n",
    "        optmizer.step()\n",
    "        \n",
    "        if batch % 100 == 0:\n",
    "            loss, current = loss.item(), (batch + 1) * len(x)\n",
    "            print(f\"loss: {loss:>7f} [{current:>5f}/{size:>5f}]\")"
   ]
  },
  {
   "cell_type": "code",
   "execution_count": 8,
   "metadata": {},
   "outputs": [],
   "source": [
    "def test(dataloader, model, loss_fn):\n",
    "    size = len(dataloader.dataset)\n",
    "    num_batches = len(dataloader)\n",
    "    model.eval()\n",
    "    test_loss, correct = 0, 0\n",
    "    with torch.no_grad():\n",
    "        for x, y in dataloader:\n",
    "            x, y = x.to(device), y.to(device)\n",
    "            pred = model(x)\n",
    "            test_loss += loss_fn(pred, y).item()\n",
    "            correct += (pred.argmax(1) == y).type(torch.float).sum().item()\n",
    "    test_loss /= num_batches\n",
    "    correct /= size\n",
    "    print(f\"Test Error: \\n Accuracy: {(100*correct):>0.1f}%, Avg loss: {test_loss:>8f} \\n\")"
   ]
  },
  {
   "cell_type": "code",
   "execution_count": 9,
   "metadata": {},
   "outputs": [
    {
     "name": "stdout",
     "output_type": "stream",
     "text": [
      "Epoch 1\n",
      "----------------------------\n",
      "loss: 2.294853 [64.000000/60000.000000]\n"
     ]
    },
    {
     "name": "stdout",
     "output_type": "stream",
     "text": [
      "loss: 2.285164 [6464.000000/60000.000000]\n",
      "loss: 2.266148 [12864.000000/60000.000000]\n",
      "loss: 2.257408 [19264.000000/60000.000000]\n",
      "loss: 2.245326 [25664.000000/60000.000000]\n",
      "loss: 2.221223 [32064.000000/60000.000000]\n",
      "loss: 2.220344 [38464.000000/60000.000000]\n",
      "loss: 2.198640 [44864.000000/60000.000000]\n",
      "loss: 2.183513 [51264.000000/60000.000000]\n",
      "loss: 2.156610 [57664.000000/60000.000000]\n",
      "Test Error: \n",
      " Accuracy: 48.8%, Avg loss: 2.143994 \n",
      "\n",
      "Epoch 2\n",
      "----------------------------\n",
      "loss: 2.158234 [64.000000/60000.000000]\n",
      "loss: 2.144165 [6464.000000/60000.000000]\n",
      "loss: 2.086643 [12864.000000/60000.000000]\n",
      "loss: 2.094342 [19264.000000/60000.000000]\n",
      "loss: 2.055792 [25664.000000/60000.000000]\n",
      "loss: 1.996209 [32064.000000/60000.000000]\n",
      "loss: 2.018709 [38464.000000/60000.000000]\n",
      "loss: 1.951524 [44864.000000/60000.000000]\n",
      "loss: 1.943341 [51264.000000/60000.000000]\n",
      "loss: 1.875493 [57664.000000/60000.000000]\n",
      "Test Error: \n",
      " Accuracy: 54.3%, Avg loss: 1.866394 \n",
      "\n",
      "Epoch 3\n",
      "----------------------------\n",
      "loss: 1.909881 [64.000000/60000.000000]\n",
      "loss: 1.872191 [6464.000000/60000.000000]\n",
      "loss: 1.753765 [12864.000000/60000.000000]\n",
      "loss: 1.788491 [19264.000000/60000.000000]\n",
      "loss: 1.698654 [25664.000000/60000.000000]\n",
      "loss: 1.646019 [32064.000000/60000.000000]\n",
      "loss: 1.672861 [38464.000000/60000.000000]\n",
      "loss: 1.586838 [44864.000000/60000.000000]\n",
      "loss: 1.600080 [51264.000000/60000.000000]\n",
      "loss: 1.501546 [57664.000000/60000.000000]\n",
      "Test Error: \n",
      " Accuracy: 60.0%, Avg loss: 1.510916 \n",
      "\n",
      "Epoch 4\n",
      "----------------------------\n",
      "loss: 1.586588 [64.000000/60000.000000]\n",
      "loss: 1.547380 [6464.000000/60000.000000]\n",
      "loss: 1.396503 [12864.000000/60000.000000]\n",
      "loss: 1.468508 [19264.000000/60000.000000]\n",
      "loss: 1.364815 [25664.000000/60000.000000]\n",
      "loss: 1.349634 [32064.000000/60000.000000]\n",
      "loss: 1.377995 [38464.000000/60000.000000]\n",
      "loss: 1.310883 [44864.000000/60000.000000]\n",
      "loss: 1.329025 [51264.000000/60000.000000]\n",
      "loss: 1.239147 [57664.000000/60000.000000]\n",
      "Test Error: \n",
      " Accuracy: 63.1%, Avg loss: 1.256740 \n",
      "\n",
      "Epoch 5\n",
      "----------------------------\n",
      "loss: 1.338299 [64.000000/60000.000000]\n",
      "loss: 1.319382 [6464.000000/60000.000000]\n",
      "loss: 1.150720 [12864.000000/60000.000000]\n",
      "loss: 1.257863 [19264.000000/60000.000000]\n",
      "loss: 1.143408 [25664.000000/60000.000000]\n",
      "loss: 1.155643 [32064.000000/60000.000000]\n",
      "loss: 1.193104 [38464.000000/60000.000000]\n",
      "loss: 1.137504 [44864.000000/60000.000000]\n",
      "loss: 1.155727 [51264.000000/60000.000000]\n",
      "loss: 1.078816 [57664.000000/60000.000000]\n",
      "Test Error: \n",
      " Accuracy: 64.5%, Avg loss: 1.094881 \n",
      "\n",
      "Done!\n"
     ]
    }
   ],
   "source": [
    "epochs = 5\n",
    "for t in range(epochs):\n",
    "    print(f\"Epoch {t+1}\\n----------------------------\")\n",
    "    train(train_dataloader, model, loss_fn, optmizer)\n",
    "    test(test_dataloader, model, loss_fn)\n",
    "print(\"Done!\")"
   ]
  },
  {
   "cell_type": "code",
   "execution_count": 10,
   "metadata": {},
   "outputs": [
    {
     "name": "stdout",
     "output_type": "stream",
     "text": [
      "Saved PyTorch Model State to model.pth\n"
     ]
    }
   ],
   "source": [
    "torch.save(model.state_dict(), \"model.pth\")\n",
    "print(\"Saved PyTorch Model State to model.pth\")"
   ]
  },
  {
   "cell_type": "code",
   "execution_count": 11,
   "metadata": {},
   "outputs": [
    {
     "data": {
      "text/plain": [
       "<All keys matched successfully>"
      ]
     },
     "execution_count": 11,
     "metadata": {},
     "output_type": "execute_result"
    }
   ],
   "source": [
    "model = NeuralNetwork()\n",
    "model.load_state_dict(torch.load(\"model.pth\"))"
   ]
  },
  {
   "cell_type": "code",
   "execution_count": 12,
   "metadata": {},
   "outputs": [
    {
     "name": "stdout",
     "output_type": "stream",
     "text": [
      "Predicted: \"Ankle boot\", Actual: \"Ankle boot\"\n"
     ]
    }
   ],
   "source": [
    "classes = [\n",
    "    \"T-shirt/top\",\n",
    "    \"Trouser\",\n",
    "    \"Pullover\",\n",
    "    \"Dress\",\n",
    "    \"Coat\",\n",
    "    \"Sandal\",\n",
    "    \"Shirt\",\n",
    "    \"Sneaker\",\n",
    "    \"Bag\",\n",
    "    \"Ankle boot\",\n",
    "]\n",
    "\n",
    "model.eval()\n",
    "x, y = test_data[0][0], test_data[0][1]\n",
    "with torch.no_grad():\n",
    "    x = x.to(device)\n",
    "    pred = model(x)\n",
    "    predicted, actual = classes[torch.argmax(pred[0]).cpu().item()], classes[y]\n",
    "    print(f'Predicted: \"{predicted}\", Actual: \"{actual}\"')"
   ]
  },
  {
   "cell_type": "code",
   "execution_count": null,
   "metadata": {},
   "outputs": [],
   "source": []
  }
 ],
 "metadata": {
  "kernelspec": {
   "display_name": "ai",
   "language": "python",
   "name": "python3"
  },
  "language_info": {
   "codemirror_mode": {
    "name": "ipython",
    "version": 3
   },
   "file_extension": ".py",
   "mimetype": "text/x-python",
   "name": "python",
   "nbconvert_exporter": "python",
   "pygments_lexer": "ipython3",
   "version": "3.11.5"
  }
 },
 "nbformat": 4,
 "nbformat_minor": 2
}
