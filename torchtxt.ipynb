{
 "cells": [
  {
   "cell_type": "code",
   "execution_count": 26,
   "metadata": {},
   "outputs": [],
   "source": [
    "import torch\n",
    "from torchtext.datasets import AG_NEWS\n",
    "\n",
    "train_iter = iter(AG_NEWS(split=\"train\"))"
   ]
  },
  {
   "cell_type": "code",
   "execution_count": 24,
   "metadata": {},
   "outputs": [
    {
     "name": "stdout",
     "output_type": "stream",
     "text": [
      "{1, 2, 3, 4}\n"
     ]
    }
   ],
   "source": [
    "lable_list = []\n",
    "for label, text in train_iter:\n",
    "    lable_list.append(label)\n",
    "print(set(lable_list))"
   ]
  },
  {
   "cell_type": "code",
   "execution_count": 31,
   "metadata": {},
   "outputs": [
    {
     "data": {
      "text/plain": [
       "(3,\n",
       " 'Oil prices soar to all-time record, posing new menace to US economy (AFP) AFP - Tearaway world oil prices, toppling records and straining wallets, present a new economic menace barely three months before the US presidential elections.')"
      ]
     },
     "execution_count": 31,
     "metadata": {},
     "output_type": "execute_result"
    }
   ],
   "source": [
    "next(train_iter)"
   ]
  },
  {
   "cell_type": "code",
   "execution_count": 6,
   "metadata": {},
   "outputs": [],
   "source": [
    "from torchtext.data.utils import get_tokenizer\n",
    "from torchtext.vocab import build_vocab_from_iterator\n",
    "\n",
    "tokenizer = get_tokenizer(\"basic_english\")\n",
    "train_iter = AG_NEWS(split=\"train\")\n",
    "\n",
    "def yield_tokens(data_iter):\n",
    "    for _, text in data_iter:\n",
    "        yield tokenizer(text)\n",
    "\n",
    "vocab = build_vocab_from_iterator(yield_tokens(train_iter), specials=[\"<unk>\"])\n",
    "vocab.set_default_index(vocab[\"<unk>\"])"
   ]
  },
  {
   "cell_type": "code",
   "execution_count": 4,
   "metadata": {},
   "outputs": [
    {
     "data": {
      "text/plain": [
       "[475, 21, 30, 5297]"
      ]
     },
     "execution_count": 4,
     "metadata": {},
     "output_type": "execute_result"
    }
   ],
   "source": [
    "vocab([\"here\", \"is\", \"an\", \"example\"])"
   ]
  },
  {
   "cell_type": "code",
   "execution_count": 7,
   "metadata": {},
   "outputs": [],
   "source": [
    "text_pipeline = lambda x: vocab(tokenizer(x))\n",
    "label_pipeline = lambda x: int(x) - 1"
   ]
  },
  {
   "cell_type": "code",
   "execution_count": 8,
   "metadata": {},
   "outputs": [
    {
     "data": {
      "text/plain": [
       "[475, 21, 2, 30, 5297]"
      ]
     },
     "execution_count": 8,
     "metadata": {},
     "output_type": "execute_result"
    }
   ],
   "source": [
    "text_pipeline(\"here is the an example\")"
   ]
  },
  {
   "cell_type": "code",
   "execution_count": 9,
   "metadata": {},
   "outputs": [
    {
     "data": {
      "text/plain": [
       "9"
      ]
     },
     "execution_count": 9,
     "metadata": {},
     "output_type": "execute_result"
    }
   ],
   "source": [
    "label_pipeline(\"10\")"
   ]
  },
  {
   "cell_type": "code",
   "execution_count": 10,
   "metadata": {},
   "outputs": [],
   "source": [
    "from torch.utils.data import DataLoader\n",
    "device = torch.device(\"cuda\" if torch.cuda.is_available() else \"cpu\")\n",
    "\n",
    "def collate_batch(batch):\n",
    "    label_list, text_list, offsets = [], [], [0]\n",
    "    for (_label, _text) in batch:\n",
    "        label_list.append(label_pipeline(_label))\n",
    "        processed_text = torch.tensor(text_pipeline(_text), dtype=torch.int64)\n",
    "        text_list.append(processed_text)\n",
    "        offsets.append(processed_text.size(0))\n",
    "    label_list = torch.tensor(label_list, dtype=torch.int64)\n",
    "    offsets = torch.tensor(offsets[:-1]).cumsum(dim=0)\n",
    "    text_list = torch.cat(text_list)\n",
    "    return label_list.to(device), text_list.to(device), offsets.to(device)\n",
    "\n",
    "train_iter = AG_NEWS(split=\"train\")\n",
    "dataLoader = DataLoader(train_iter, batch_size=8, shuffle=False, collate_fn=collate_batch)"
   ]
  },
  {
   "cell_type": "code",
   "execution_count": 11,
   "metadata": {},
   "outputs": [],
   "source": [
    "from torch import nn\n",
    "\n",
    "class TextClassificationModel(nn.Module):\n",
    "    \n",
    "    def __init__(self, vocab_size, embed_dim, num_class):\n",
    "        super(TextClassificationModel, self).__init__()\n",
    "        self.embedding = nn.EmbeddingBag(vocab_size, embed_dim, sparse=False)\n",
    "        self.fc = nn.Linear(embed_dim, num_class)\n",
    "        self.init_weights()\n",
    "        \n",
    "    def init_weights(self):\n",
    "        initrange = 0.5\n",
    "        self.embedding.weight.data.uniform_(-initrange, initrange)\n",
    "        self.fc.weight.data.uniform_(-initrange, initrange)\n",
    "        self.fc.bias.data.zero_()\n",
    "        \n",
    "    def forward(self, text, offsets):\n",
    "        embedded = self.embedding(text, offsets)\n",
    "        return self.fc(embedded)"
   ]
  },
  {
   "cell_type": "code",
   "execution_count": 13,
   "metadata": {},
   "outputs": [],
   "source": [
    "train_iter = AG_NEWS(split=\"train\")\n",
    "num_class = len(set([label for (label, text) in train_iter]))\n",
    "vocab_size = len(vocab)\n",
    "emsize = 64\n",
    "model = TextClassificationModel(vocab_size, emsize, num_class).to(device)"
   ]
  },
  {
   "cell_type": "code",
   "execution_count": 18,
   "metadata": {},
   "outputs": [],
   "source": [
    "import time\n",
    "\n",
    "def train(dataLoader):\n",
    "    model.train()\n",
    "    total_acc, total_count = 0, 0\n",
    "    log_interval = 500\n",
    "    start_time = time.time()\n",
    "    for idx, (label, text, offsets) in enumerate(dataLoader):\n",
    "        optimizer.zero_grad()\n",
    "        predicted_label = model(text, offsets)\n",
    "        loss = criterion(predicted_label, label)\n",
    "        loss.backward()\n",
    "        torch.nn.utils.clip_grad_norm_(model.parameters(), 0.1)\n",
    "        optimizer.step()\n",
    "        total_acc += (predicted_label.argmax(1) == label).sum().item()\n",
    "        total_count += label.size(0)\n",
    "        if idx % log_interval == 0 and idx > 0:\n",
    "            elapsed = time.time() - start_time\n",
    "            print(f\"|| epoch {epoch:3d} \\ {idx:5d} | {len(dataLoader):5d} batches\"\n",
    "                  f\"|| accuracy {total_acc/total_count:8.3f}\")\n",
    "            \n",
    "            total_acc, total_count = 0, 0\n",
    "            start_time = time.time()\n",
    "            \n",
    "def evaluate(dataLoader):\n",
    "    model.eval()\n",
    "    total_acc, total_count = 0, 0\n",
    "    \n",
    "    with torch.no_grad():\n",
    "        for idx, (label, text, offsets) in enumerate(dataLoader):\n",
    "            predicted_label = model(text, offsets)\n",
    "            loss = criterion(predicted_label, label)\n",
    "            total_acc += (predicted_label.argmax(1) == label).sum().item()\n",
    "            total_count += label.size(0)\n",
    "    return total_acc/total_count"
   ]
  },
  {
   "cell_type": "code",
   "execution_count": 19,
   "metadata": {},
   "outputs": [
    {
     "name": "stdout",
     "output_type": "stream",
     "text": [
      "|| epoch   1 \\   500 |  1782 batches|| accuracy    0.899\n",
      "|| epoch   1 \\  1000 |  1782 batches|| accuracy    0.898\n",
      "|| epoch   1 \\  1500 |  1782 batches|| accuracy    0.902\n",
      "-----------------------------------------------------------\n",
      "| end fo epoch   1 | time: 41.11valid accuracy    0.897\n",
      "-----------------------------------------------------------\n",
      "|| epoch   2 \\   500 |  1782 batches|| accuracy    0.914\n",
      "|| epoch   2 \\  1000 |  1782 batches|| accuracy    0.913\n",
      "|| epoch   2 \\  1500 |  1782 batches|| accuracy    0.914\n",
      "-----------------------------------------------------------\n",
      "| end fo epoch   2 | time: 38.98valid accuracy    0.908\n",
      "-----------------------------------------------------------\n",
      "|| epoch   3 \\   500 |  1782 batches|| accuracy    0.922\n",
      "|| epoch   3 \\  1000 |  1782 batches|| accuracy    0.923\n",
      "|| epoch   3 \\  1500 |  1782 batches|| accuracy    0.921\n",
      "-----------------------------------------------------------\n",
      "| end fo epoch   3 | time: 39.93valid accuracy    0.910\n",
      "-----------------------------------------------------------\n",
      "|| epoch   4 \\   500 |  1782 batches|| accuracy    0.931\n",
      "|| epoch   4 \\  1000 |  1782 batches|| accuracy    0.931\n",
      "|| epoch   4 \\  1500 |  1782 batches|| accuracy    0.926\n",
      "-----------------------------------------------------------\n",
      "| end fo epoch   4 | time: 38.87valid accuracy    0.907\n",
      "-----------------------------------------------------------\n",
      "|| epoch   5 \\   500 |  1782 batches|| accuracy    0.942\n",
      "|| epoch   5 \\  1000 |  1782 batches|| accuracy    0.945\n",
      "|| epoch   5 \\  1500 |  1782 batches|| accuracy    0.941\n",
      "-----------------------------------------------------------\n",
      "| end fo epoch   5 | time: 37.37valid accuracy    0.911\n",
      "-----------------------------------------------------------\n",
      "|| epoch   6 \\   500 |  1782 batches|| accuracy    0.946\n",
      "|| epoch   6 \\  1000 |  1782 batches|| accuracy    0.944\n",
      "|| epoch   6 \\  1500 |  1782 batches|| accuracy    0.944\n",
      "-----------------------------------------------------------\n",
      "| end fo epoch   6 | time: 36.69valid accuracy    0.913\n",
      "-----------------------------------------------------------\n",
      "|| epoch   7 \\   500 |  1782 batches|| accuracy    0.946\n",
      "|| epoch   7 \\  1000 |  1782 batches|| accuracy    0.944\n",
      "|| epoch   7 \\  1500 |  1782 batches|| accuracy    0.943\n",
      "-----------------------------------------------------------\n",
      "| end fo epoch   7 | time: 36.96valid accuracy    0.914\n",
      "-----------------------------------------------------------\n",
      "|| epoch   8 \\   500 |  1782 batches|| accuracy    0.946\n",
      "|| epoch   8 \\  1000 |  1782 batches|| accuracy    0.946\n",
      "|| epoch   8 \\  1500 |  1782 batches|| accuracy    0.945\n",
      "-----------------------------------------------------------\n",
      "| end fo epoch   8 | time: 37.70valid accuracy    0.914\n",
      "-----------------------------------------------------------\n",
      "|| epoch   9 \\   500 |  1782 batches|| accuracy    0.946\n",
      "|| epoch   9 \\  1000 |  1782 batches|| accuracy    0.945\n",
      "|| epoch   9 \\  1500 |  1782 batches|| accuracy    0.946\n",
      "-----------------------------------------------------------\n",
      "| end fo epoch   9 | time: 37.33valid accuracy    0.915\n",
      "-----------------------------------------------------------\n",
      "|| epoch  10 \\   500 |  1782 batches|| accuracy    0.949\n",
      "|| epoch  10 \\  1000 |  1782 batches|| accuracy    0.944\n",
      "|| epoch  10 \\  1500 |  1782 batches|| accuracy    0.947\n",
      "-----------------------------------------------------------\n",
      "| end fo epoch  10 | time: 39.27valid accuracy    0.914\n",
      "-----------------------------------------------------------\n"
     ]
    }
   ],
   "source": [
    "from torch.utils.data.dataset import random_split\n",
    "from torchtext.data.functional import to_map_style_dataset\n",
    "\n",
    "EPOCHS = 10\n",
    "LR = 5\n",
    "BATCHSIZE = 64\n",
    "\n",
    "criterion = torch.nn.CrossEntropyLoss()\n",
    "optimizer = torch.optim.SGD(model.parameters(), lr=LR)\n",
    "scheduler = torch.optim.lr_scheduler.StepLR(optimizer, 1.0, gamma=0.1)\n",
    "total_accu = None\n",
    "train_iter, test_iter = AG_NEWS()\n",
    "train_dataset = to_map_style_dataset(train_iter)\n",
    "test_dataset = to_map_style_dataset(test_iter)\n",
    "num_train = int(len(train_dataset) * 0.95)\n",
    "split_train_, split_valid_ = \\\n",
    "    random_split(train_dataset, [num_train, len(train_dataset) - num_train])\n",
    "    \n",
    "train_dataloader = DataLoader(split_train_, batch_size=BATCHSIZE, shuffle=True, collate_fn=collate_batch)\n",
    "valid_dataloader = DataLoader(split_valid_, batch_size=BATCHSIZE, shuffle=True, collate_fn=collate_batch)\n",
    "test_dataloader = DataLoader(test_dataset, batch_size=BATCHSIZE, shuffle=True, collate_fn=collate_batch)\n",
    "\n",
    "for epoch in range(1, EPOCHS + 1):\n",
    "    epoch_start_time = time.time()\n",
    "    train(train_dataloader)\n",
    "    accu_val = evaluate(valid_dataloader)\n",
    "    if total_accu is not None and total_accu > accu_val:\n",
    "        scheduler.step()\n",
    "    else:\n",
    "        total_accu = accu_val\n",
    "    print(\"-\" * 59)\n",
    "    print(f\"| end fo epoch {epoch:3d} | time: {time.time() - epoch_start_time:5.2f}\"\n",
    "          f\"valid accuracy {accu_val:8.3f}\")\n",
    "    \n",
    "    print(\"-\" * 59)"
   ]
  },
  {
   "cell_type": "code",
   "execution_count": 20,
   "metadata": {},
   "outputs": [
    {
     "name": "stdout",
     "output_type": "stream",
     "text": [
      "Checing the results fo test dataset.\n",
      "test accuracy 0.9042105263157895\n"
     ]
    }
   ],
   "source": [
    "print(\"Checing the results fo test dataset.\")\n",
    "accu_test = evaluate(test_dataloader)\n",
    "print(f\"test accuracy {accu_test}\")"
   ]
  },
  {
   "cell_type": "code",
   "execution_count": 21,
   "metadata": {},
   "outputs": [
    {
     "name": "stdout",
     "output_type": "stream",
     "text": [
      "This is a Sports news\n"
     ]
    }
   ],
   "source": [
    "ag_news_label = {1: \"World\",\n",
    "                 2: \"Sports\",\n",
    "                 3: \"Business\",\n",
    "                 4: \"Sci/Tec\"}\n",
    "\n",
    "def predict(text, text_pipeline):\n",
    "    with torch.no_grad():\n",
    "        text = torch.tensor(text_pipeline(text))\n",
    "        output = model(text, torch.tensor([0]))\n",
    "        return output.argmax(1).item() + 1\n",
    "\n",
    "ex_text_str = \"MEMPHIS, Tenn. – Four days ago, Jon Rahm was \\\n",
    "    enduring the season’s worst weather conditions on Sunday at The \\\n",
    "    Open on his way to a closing 75 at Royal Portrush, which \\\n",
    "    considering the wind and the rain was a respectable showing. \\\n",
    "    Thursday’s first round at the WGC-FedEx St. Jude Invitational \\\n",
    "    was another story. With temperatures in the mid-80s and hardly any \\\n",
    "    wind, the Spaniard was 13 strokes better in a flawless round. \\\n",
    "    Thanks to his best putting performance on the PGA Tour, Rahm \\\n",
    "    finished with an 8-under 62 for a three-stroke lead, which \\\n",
    "    was even more impressive considering he’d never played the \\\n",
    "    front nine at TPC Southwind.\"\n",
    "\n",
    "model = model.to(\"cpu\")\n",
    "\n",
    "print(\"This is a %s news\" %ag_news_label[predict(ex_text_str, text_pipeline)])"
   ]
  },
  {
   "cell_type": "code",
   "execution_count": null,
   "metadata": {},
   "outputs": [],
   "source": []
  }
 ],
 "metadata": {
  "kernelspec": {
   "display_name": "ai",
   "language": "python",
   "name": "python3"
  },
  "language_info": {
   "codemirror_mode": {
    "name": "ipython",
    "version": 3
   },
   "file_extension": ".py",
   "mimetype": "text/x-python",
   "name": "python",
   "nbconvert_exporter": "python",
   "pygments_lexer": "ipython3",
   "version": "3.11.8"
  }
 },
 "nbformat": 4,
 "nbformat_minor": 2
}
