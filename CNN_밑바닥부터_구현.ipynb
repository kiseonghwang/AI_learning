{
 "cells": [
  {
   "cell_type": "code",
   "execution_count": 1,
   "metadata": {},
   "outputs": [],
   "source": [
    "from sklearn.datasets import fetch_openml\n",
    "from sklearn.utils import check_random_state\n",
    "from sklearn.model_selection import train_test_split\n",
    "from sklearn.preprocessing import StandardScaler\n",
    "\n",
    "import matplotlib.pyplot as plt\n",
    "import pandas as pd\n",
    "import numpy as np\n",
    "import torch"
   ]
  },
  {
   "cell_type": "code",
   "execution_count": 2,
   "metadata": {},
   "outputs": [
    {
     "name": "stderr",
     "output_type": "stream",
     "text": [
      "/Users/hwang-giseong/anaconda3/envs/ai/lib/python3.11/site-packages/sklearn/datasets/_openml.py:1002: FutureWarning: The default value of `parser` will change from `'liac-arff'` to `'auto'` in 1.4. You can set `parser='auto'` to silence this warning. Therefore, an `ImportError` will be raised from 1.4 if the dataset is dense and pandas is not installed. Note that the pandas parser may return different data types. See the Notes Section in fetch_openml's API doc for details.\n",
      "  warn(\n"
     ]
    }
   ],
   "source": [
    "X, y = fetch_openml(\"mnist_784\", version=1, return_X_y=True)"
   ]
  },
  {
   "cell_type": "code",
   "execution_count": 4,
   "metadata": {},
   "outputs": [],
   "source": [
    "single_sample = X.loc[0, :].values.reshape(28, 28)"
   ]
  },
  {
   "cell_type": "code",
   "execution_count": 3,
   "metadata": {},
   "outputs": [],
   "source": [
    "train_sampels = 60000\n",
    "\n",
    "x_train, x_test, y_train, y_test = train_test_split(X, y, train_size=train_sampels)\n",
    "\n",
    "scaler = StandardScaler()\n",
    "x_train = scaler.fit_transform(x_train)\n",
    "x_test = scaler.fit_transform(x_test)"
   ]
  },
  {
   "cell_type": "code",
   "execution_count": 6,
   "metadata": {},
   "outputs": [],
   "source": [
    "class ConvolutionalLayer:\n",
    "    def __init__(self, num_kernels, kernel_shape):\n",
    "        self.num_kernels = num_kernels\n",
    "        self.kernel_shape = kernel_shape\n",
    "        self.k = self.kernel_shape[0]\n",
    "        \n",
    "        self.kernel_theta = torch.randn(self.num_kernels, self.kernel_shape[0], self.kernel_shape[1])\n",
    "        \n",
    "    def slider(self, image):\n",
    "        h, w = image.shape\n",
    "        for h_idx in range(h - (self.k -1)):\n",
    "            for w_idx in range(w - (self.k - 1)):\n",
    "                single_slide_area = image[h_idx: (h_idx + self.k), w_idx:(w_idx + self.k)]\n",
    "    \n",
    "    def forward(self, images):\n",
    "        assert single_sample.dim() == 2\n",
    "        \n",
    "        _, w =  images.shape\n",
    "        p = 0\n",
    "        o = (w - self.k) + 1\n",
    "        print(\"Padding shape: \", p)\n",
    "        print(\"Output shape: \", o)\n",
    "        \n",
    "        output = torch.zeros((o, o, self.num_kernels))\n",
    "        \n",
    "        for single_slide_area, h_idx, w_idx in self.slider(images):\n",
    "            if h_idx == 0 and w_idx == 0:\n",
    "                print('Region shape: \\t', list(single_slide_area.shape))\n",
    "                print('Kernel shape: \\t', list(self.kernel_theta.shape))\n",
    "                print('Single Slide: \\t', list(output[h_idx, w_idx].shape))\n",
    "            \n",
    "            output[h_idx, w_idx] = torch.sum(single_slide_area * self.kernel_theta, axis=(1, 2))\n",
    "        output = 1. / (1. + torch.exp(-output))\n",
    "        \n",
    "        return output"
   ]
  },
  {
   "cell_type": "code",
   "execution_count": null,
   "metadata": {},
   "outputs": [],
   "source": []
  },
  {
   "cell_type": "code",
   "execution_count": null,
   "metadata": {},
   "outputs": [],
   "source": []
  }
 ],
 "metadata": {
  "kernelspec": {
   "display_name": "ai",
   "language": "python",
   "name": "python3"
  },
  "language_info": {
   "codemirror_mode": {
    "name": "ipython",
    "version": 3
   },
   "file_extension": ".py",
   "mimetype": "text/x-python",
   "name": "python",
   "nbconvert_exporter": "python",
   "pygments_lexer": "ipython3",
   "version": "3.11.5"
  }
 },
 "nbformat": 4,
 "nbformat_minor": 2
}
